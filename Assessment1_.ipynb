{
  "nbformat": 4,
  "nbformat_minor": 0,
  "metadata": {
    "colab": {
      "provenance": []
    },
    "kernelspec": {
      "name": "python3",
      "display_name": "Python 3"
    },
    "language_info": {
      "name": "python"
    }
  },
  "cells": [
    {
      "cell_type": "code",
      "source": [
        "import pandas as pd\n",
        "import numpy as np\n",
        "from datetime import datetime, timedelta\n",
        "import matplotlib.pyplot as plt\n",
        "\n",
        "# Define the date range\n",
        "start_date = datetime(2023, 7, 31)\n",
        "end_date = datetime(2024, 7, 30)\n",
        "date_range = pd.date_range(start_date, end_date)\n",
        "\n",
        "# Generate synthetic data\n",
        "np.random.seed(0)  # For reproducibility\n",
        "temperature = np.random.uniform(low=15, high=35, size=len(date_range))  # Degrees Celsius\n",
        "humidity = np.random.uniform(low=30, high=90, size=len(date_range))  # Percentage\n",
        "aqi = np.random.uniform(low=0, high=300, size=len(date_range))  # AQI values\n",
        "\n",
        "# Create DataFrame\n",
        "data = {\n",
        "    'Date': date_range,\n",
        "    'Temperature': temperature,\n",
        "    'Humidity': humidity,\n",
        "    'AQI': aqi\n",
        "}\n",
        "df = pd.DataFrame(data)\n",
        "\n",
        "# Save DataFrame to CSV\n",
        "df.to_csv('city_weather.csv', index=False)\n",
        "\n",
        "# Load the dataset\n",
        "df = pd.read_csv('city_weather.csv')\n",
        "\n",
        "# Convert Date column to datetime\n",
        "df['Date'] = pd.to_datetime(df['Date'])\n",
        "\n",
        "# Display the first few rows of the dataset\n",
        "print(df.head())"
      ],
      "metadata": {
        "colab": {
          "base_uri": "https://localhost:8080/"
        },
        "id": "lnXzTuXm7HBm",
        "outputId": "4b746c55-03d6-49e6-cad0-7971d1ea8434"
      },
      "execution_count": 4,
      "outputs": [
        {
          "output_type": "stream",
          "name": "stdout",
          "text": [
            "        Date  Temperature   Humidity         AQI\n",
            "0 2023-07-31    25.976270  73.450058  109.473551\n",
            "1 2023-08-01    29.303787  53.941519   78.271350\n",
            "2 2023-08-02    27.055268  84.242664  148.791089\n",
            "3 2023-08-03    25.897664  71.401501  204.521984\n",
            "4 2023-08-04    23.473096  71.977323   83.202081\n"
          ]
        }
      ]
    }
  ]
}